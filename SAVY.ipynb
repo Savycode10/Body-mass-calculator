{
 "cells": [
  {
   "cell_type": "code",
   "execution_count": 1,
   "id": "f6636122",
   "metadata": {},
   "outputs": [],
   "source": [
    "NAME= \"Dan_Saviour\""
   ]
  },
  {
   "cell_type": "code",
   "execution_count": 2,
   "id": "961f81b7",
   "metadata": {},
   "outputs": [],
   "source": [
    "#HEIGHT should be written in metres\n",
    "HEIGHT= 1.75"
   ]
  },
  {
   "cell_type": "code",
   "execution_count": 3,
   "id": "0d46b627",
   "metadata": {},
   "outputs": [],
   "source": [
    "#WEIGHT should be written in Killogram\n",
    "WEIGHT= 60"
   ]
  },
  {
   "cell_type": "code",
   "execution_count": 4,
   "id": "59808c6a",
   "metadata": {},
   "outputs": [],
   "source": [
    "#BODY MASS INDEX in Kg/m**2\n",
    "BMI= WEIGHT/HEIGHT**2\n"
   ]
  },
  {
   "cell_type": "code",
   "execution_count": 6,
   "id": "858c58c1",
   "metadata": {},
   "outputs": [
    {
     "name": "stdout",
     "output_type": "stream",
     "text": [
      "Dan_Saviour is not under weight by BMI 19.591836734693878\n"
     ]
    }
   ],
   "source": [
    "if BMI < 18.5: \n",
    "    print(f\"{NAME}  is under weight by BMI {BMI}\")\n",
    "else:\n",
    "   print(f\"{NAME} is not under weight by BMI {BMI}\")\n",
    "   "
   ]
  },
  {
   "cell_type": "code",
   "execution_count": null,
   "id": "3b52ddd3",
   "metadata": {},
   "outputs": [],
   "source": []
  },
  {
   "cell_type": "code",
   "execution_count": null,
   "id": "836372b3",
   "metadata": {},
   "outputs": [],
   "source": []
  }
 ],
 "metadata": {
  "kernelspec": {
   "display_name": "Python 3",
   "language": "python",
   "name": "python3"
  },
  "language_info": {
   "codemirror_mode": {
    "name": "ipython",
    "version": 3
   },
   "file_extension": ".py",
   "mimetype": "text/x-python",
   "name": "python",
   "nbconvert_exporter": "python",
   "pygments_lexer": "ipython3",
   "version": "3.8.8"
  }
 },
 "nbformat": 4,
 "nbformat_minor": 5
}
